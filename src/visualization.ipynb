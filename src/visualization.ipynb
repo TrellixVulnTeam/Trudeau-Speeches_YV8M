{
 "cells": [
  {
   "cell_type": "markdown",
   "metadata": {
    "collapsed": true
   },
   "source": [
    "# Visualization \n",
    "\n",
    "In this notebook, I will try to visualize the major words that are found in Trudeau's speeches.\n",
    "\n",
    "I will attempt the following:\n",
    "- Histogram of all positive and negative scores\n",
    "- Possible visualization of sentiment scores as function of time\n",
    "- Length of text histogram\n",
    "- Top words/bigrams/trigrams\n",
    "\n",
    "Link to possible visualizations: https://towardsdatascience.com/a-complete-exploratory-data-analysis-and-visualization-for-text-data-29fb1b96fb6a"
   ]
  },
  {
   "cell_type": "code",
   "execution_count": null,
   "metadata": {},
   "outputs": [],
   "source": [
    ""
   ]
  }
 ],
 "metadata": {
  "kernelspec": {
   "display_name": "Python 2",
   "language": "python",
   "name": "python2"
  },
  "language_info": {
   "codemirror_mode": {
    "name": "ipython",
    "version": 2.0
   },
   "file_extension": ".py",
   "mimetype": "text/x-python",
   "name": "python",
   "nbconvert_exporter": "python",
   "pygments_lexer": "ipython2",
   "version": "2.7.6"
  }
 },
 "nbformat": 4,
 "nbformat_minor": 0
}