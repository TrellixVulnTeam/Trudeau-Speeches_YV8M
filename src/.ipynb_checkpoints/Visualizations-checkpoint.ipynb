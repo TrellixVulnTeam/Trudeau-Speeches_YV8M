{
 "cells": [
  {
   "cell_type": "markdown",
   "metadata": {},
   "source": [
    "### Visualization\n",
    "In this notebook, I will try to visualize the major words that are found in Trudeau's speeches.\n",
    "I will attempt the following:\n",
    "\n",
    "* Histogram of all positive and negative scores\n",
    "* Possible visualization of sentiment scores as function of time\n",
    "* Length of text histogram\n",
    "* Top words/bigrams/trigrams\n",
    "\n",
    "Link to possible visualizations: https://towardsdatascience.com/a-complete-exploratory-data-analysis-and-visualization-for-text-data-29fb1b96fb6a"
   ]
  }
 ],
 "metadata": {
  "kernelspec": {
   "display_name": "env",
   "language": "python",
   "name": "env"
  },
  "language_info": {
   "codemirror_mode": {
    "name": "ipython",
    "version": 3
   },
   "file_extension": ".py",
   "mimetype": "text/x-python",
   "name": "python",
   "nbconvert_exporter": "python",
   "pygments_lexer": "ipython3",
   "version": "3.6.3"
  }
 },
 "nbformat": 4,
 "nbformat_minor": 2
}
